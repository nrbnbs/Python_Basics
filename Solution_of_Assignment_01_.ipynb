{
  "nbformat": 4,
  "nbformat_minor": 0,
  "metadata": {
    "colab": {
      "name": "Solution_of_Assignment_01_.ipynb",
      "provenance": [],
      "include_colab_link": true
    },
    "kernelspec": {
      "name": "python3",
      "display_name": "Python 3"
    },
    "language_info": {
      "name": "python"
    }
  },
  "cells": [
    {
      "cell_type": "markdown",
      "metadata": {
        "id": "view-in-github",
        "colab_type": "text"
      },
      "source": [
        "<a href=\"https://colab.research.google.com/github/nrbnbs/Python_Basics/blob/main/Solution_of_Assignment_01_.ipynb\" target=\"_parent\"><img src=\"https://colab.research.google.com/assets/colab-badge.svg\" alt=\"Open In Colab\"/></a>"
      ]
    },
    {
      "cell_type": "markdown",
      "metadata": {
        "id": "PRJToUQqa22k"
      },
      "source": [
        "## Problem - 01: Write a Python program to find out roots of a quadratic equation. Accept coefficients from user."
      ]
    },
    {
      "cell_type": "code",
      "metadata": {
        "colab": {
          "base_uri": "https://localhost:8080/"
        },
        "id": "B6fp5EOja_q4",
        "outputId": "1a17e177-b8f8-4f57-9d49-7cac00033b8e"
      },
      "source": [
        "# Python program to find roots of quadratic equation\n",
        "import math \n",
        "\n",
        "print(\"ax^2+bx+c=0 is a Quadratic Equation\")\n",
        "print(\"We shall find out roots for different coefficients of the Quadratic Equation\")\n",
        "\n",
        "# Accepting the values of coefficients:\n",
        "\n",
        "a = int(input(\"Enter the value of a = \"))\n",
        "\n",
        "#If a is 0, then incorrect equation\n",
        "if a == 0: \n",
        "    print(\"Input correct quadratic equation\") \n",
        "    a = int(input(\"Enter the value of a = \")) \n",
        "    \n",
        "b = int(input(\"Enter the value of b = \"))\n",
        "c = int(input(\"Enter the value of c = \"))\n",
        "\n",
        "#Calculating discriminant using formula\n",
        "\n",
        "dis = b * b - 4 * a * c \n",
        "sqrt_dis = math.sqrt(abs(dis)) \n",
        "      \n",
        "    # checking condition for discriminant\n",
        "if dis > 0: \n",
        "        print(\"Real and different roots \") \n",
        "        print(\"Root-01 = \",(-b + sqrt_dis)/(2 * a)) \n",
        "        print(\"Root-02 = \",(-b - sqrt_dis)/(2 * a)) \n",
        "      \n",
        "elif dis == 0: \n",
        "        print(\"Real and same roots\") \n",
        "        print(\"Roots = \", -b / (2 * a)) \n",
        "      \n",
        "    # when discriminant is less than 0\n",
        "else:\n",
        "        print(\"Complex Roots\") \n",
        "        print(- b / (2 * a), \" + i\", sqrt_dis) \n",
        "        print(- b / (2 * a), \" - i\", sqrt_dis) "
      ],
      "execution_count": null,
      "outputs": [
        {
          "output_type": "stream",
          "text": [
            "ax^2+bx+c=0 is a Quadratic Equation\n",
            "We shall find out roots for different coefficients of the Quadratic Equation\n",
            "Enter the value of a = 5\n",
            "Enter the value of b = 2\n",
            "Enter the value of c = 6\n",
            "Complex Roots\n",
            "-0.2  + i 10.770329614269007\n",
            "-0.2  - i 10.770329614269007\n"
          ],
          "name": "stdout"
        }
      ]
    },
    {
      "cell_type": "code",
      "metadata": {
        "id": "SfWmtcUbbrbM"
      },
      "source": [
        ""
      ],
      "execution_count": null,
      "outputs": []
    },
    {
      "cell_type": "markdown",
      "metadata": {
        "id": "pP7c106abthF"
      },
      "source": [
        "## Problem - 02: Write a Python program to find whether a given number (accept from the user) is a prime no or not, print out an appropriate message to the user."
      ]
    },
    {
      "cell_type": "code",
      "metadata": {
        "id": "n2yCaDSvbvQr"
      },
      "source": [
        "# Python program to check if\n",
        "# given number is prime or not\n",
        " \n",
        "num = int(input(\"Enter the Number = \"))\n",
        "\n",
        "# If given number is greater than 1\n",
        "if num > 1:\n",
        " \n",
        "    # Iterate from 2 to num / 2\n",
        "    for i in range(2, int(num/2)+1):\n",
        "        # If num is divisible by any number between\n",
        "        # 2 and n / 2, it is not prime\n",
        "        if (num % i) == 0:\n",
        "            print(num, \"is not a prime number\")\n",
        "            print(num, \"is divisible by \", i)\n",
        "            break\n",
        "    else:\n",
        "        print(num, \"is a prime number\")\n",
        " \n",
        "else:\n",
        "    print(num, \"is not a prime number\")"
      ],
      "execution_count": null,
      "outputs": []
    },
    {
      "cell_type": "code",
      "metadata": {
        "id": "uzRGH99EcK6E"
      },
      "source": [
        ""
      ],
      "execution_count": null,
      "outputs": []
    },
    {
      "cell_type": "markdown",
      "metadata": {
        "id": "qwoFIAQIcLQT"
      },
      "source": [
        "## Problem - 3: Write a Python program to get the least common multiple (LCM) & the greatest common divisor (GCD) of two positive integers (accept from the user)."
      ]
    },
    {
      "cell_type": "code",
      "metadata": {
        "id": "Un3uFBxScL41"
      },
      "source": [
        "# Finding GCD of a and b\n",
        "\n",
        "print('To find the GCD of A & B ....')\n",
        "a = int(input(\"Enter the first number, A = \", ))\n",
        "b = int(input(\"Enter the first number, B = \", ))\n",
        "\n",
        "gcd = 1\n",
        "\n",
        "# Finding lowest of the two:\n",
        "if (a > b):\n",
        "    l=b\n",
        "else:\n",
        "    l=a\n",
        "\n",
        "# Finding the common divisor starting from 2 to lowest value     \n",
        "for i in range(2, l+1):\n",
        "    if (b % i) == 0:\n",
        "        if (a % i) == 0:\n",
        "            gcd = i\n",
        "            \n",
        "                        \n",
        "print(\"GCD of \",a,\" & \",b,\" is = \",gcd)"
      ],
      "execution_count": null,
      "outputs": []
    },
    {
      "cell_type": "code",
      "metadata": {
        "id": "5BIfafvrcjmF"
      },
      "source": [
        "# Finding LCM of a and b\n",
        "\n",
        "print('To find the LCM of A & B ....')\n",
        "a = int(input(\"Enter the first number, A = \", ))\n",
        "b = int(input(\"Enter the first number, B = \", ))\n",
        "\n",
        "\n",
        "# Finding greatest of the two:\n",
        "if (a > b):\n",
        "    g=a\n",
        "else:\n",
        "    g=b\n",
        "    \n",
        "# Finding the least common Multiple iterating from g to infinity \n",
        "import itertools\n",
        "  \n",
        "# for in loop\n",
        "for i in itertools.count(g, 1):\n",
        "    if (i % a) == 0:\n",
        "        if (i % b) == 0:\n",
        "            lcm = i\n",
        "            break\n",
        "                        \n",
        "print(\"LCM of \",a,\" & \",b,\" is = \",lcm)"
      ],
      "execution_count": null,
      "outputs": []
    },
    {
      "cell_type": "code",
      "metadata": {
        "id": "DsEMXokYcqZu"
      },
      "source": [
        ""
      ],
      "execution_count": null,
      "outputs": []
    },
    {
      "cell_type": "markdown",
      "metadata": {
        "id": "jKeL0fbkcqqp"
      },
      "source": [
        "## Problem - 4: Find the factorial of a given number."
      ]
    },
    {
      "cell_type": "code",
      "metadata": {
        "id": "RwJ84wYBcq9A"
      },
      "source": [
        "print(\"To find factorial of one integer...\")\n",
        "a = int(input(\"Enter the value of the integer = \"))\n",
        "\n",
        "fact = 1\n",
        "for i in range(2, a+1):\n",
        "    fact = fact * i\n",
        "                           \n",
        "print(\"Factorial of \",a,\" is = \",fact)"
      ],
      "execution_count": null,
      "outputs": []
    },
    {
      "cell_type": "code",
      "metadata": {
        "id": "FqXsBhFCc-2a"
      },
      "source": [
        ""
      ],
      "execution_count": null,
      "outputs": []
    },
    {
      "cell_type": "markdown",
      "metadata": {
        "id": "SmNfjRG9c_C2"
      },
      "source": [
        "## Problem - 5: Write a Python program to find Fibonacci series upto a given no."
      ]
    },
    {
      "cell_type": "code",
      "metadata": {
        "colab": {
          "base_uri": "https://localhost:8080/"
        },
        "id": "ne140EDTc_TD",
        "outputId": "3a35e4c2-b7fc-4cb3-c786-8ac878fd5e5e"
      },
      "source": [
        "#The Fibonacci numbers are the numbers in the following integer sequence.\n",
        "#0, 1, 1, 2, 3, 5, 8, 13, 21, 34, 55, 89, 144, ……..\n",
        "\n",
        "FS = [0, 1, 1]\n",
        "\n",
        "# Asking for the number upto which Fibinacci series is to be printed:\n",
        "N = int(input(\"Enter a number = \"))\n",
        "\n",
        "for i in range (2,N+1):\n",
        "  if (FS[i] + FS[i-1]) <= N:\n",
        "    FS.append(FS[i] + FS[i-1])\n",
        "  else:\n",
        "    print(\"Finonacci Series upto \", N, \" is as follows:\")\n",
        "    print(FS)\n",
        "    break\n",
        "\n",
        "if N == 3:\n",
        "  print(\"Finonacci Series upto \", N, \" is as follows:\")\n",
        "  print(FS)\n",
        "\n",
        "\n",
        " "
      ],
      "execution_count": null,
      "outputs": [
        {
          "output_type": "stream",
          "text": [
            "Enter a number = 89\n",
            "Finonacci Series upto  89  is as follows:\n",
            "[0, 1, 1, 2, 3, 5, 8, 13, 21, 34, 55, 89]\n"
          ],
          "name": "stdout"
        }
      ]
    },
    {
      "cell_type": "code",
      "metadata": {
        "id": "LCFPOs89dbHd"
      },
      "source": [
        ""
      ],
      "execution_count": null,
      "outputs": []
    },
    {
      "cell_type": "markdown",
      "metadata": {
        "id": "Ay5ip8fOdcoF"
      },
      "source": [
        "## Problem - 6: Write a Python program to reverse the digits of a given number and add it to the original. If the sum is not a palindrome repeat this procedure."
      ]
    },
    {
      "cell_type": "code",
      "metadata": {
        "id": "tT-PGsWsddH_",
        "colab": {
          "base_uri": "https://localhost:8080/"
        },
        "outputId": "7dd7d346-4c99-435d-9464-daa6cae05c0b"
      },
      "source": [
        "num = int(input(\"Enter a positive integer = \"))\n",
        "noST = 0\n",
        "while (num > 0):\n",
        "  N = num\n",
        "# Iterative steps to reverse digits of num\n",
        "  rev_num=0\n",
        "  while (N > 0):\n",
        "    rev_num = rev_num*10 + N%10\n",
        "    N = int(N/10)\n",
        "# rev_num comes out with reversing num'\n",
        "  \n",
        "# Checking whether the number is palindrome or not\n",
        "  if rev_num == num:\n",
        "    print(\"The number\", num,\" is a Palindrome!\")\n",
        "    print(\"No of iterative steps = \", noST)\n",
        "    break\n",
        "  else:\n",
        "# Adding the reversed number with the original\n",
        "    num = num + rev_num\n",
        "    noST = noST + 1\n",
        "    if num > 100000:\n",
        "      print(\"No palindrome exist under 100000\") "
      ],
      "execution_count": null,
      "outputs": [
        {
          "output_type": "stream",
          "text": [
            "Enter a positive integer = 725\n",
            "The number 3773  is a Palindrome!\n",
            "No of iterative steps =  2\n"
          ],
          "name": "stdout"
        }
      ]
    },
    {
      "cell_type": "markdown",
      "metadata": {
        "id": "66pfXFJeaC6J"
      },
      "source": [
        "## Problem - 6: Another Method:"
      ]
    },
    {
      "cell_type": "code",
      "metadata": {
        "id": "Jsyk_DOsaNod",
        "colab": {
          "base_uri": "https://localhost:8080/"
        },
        "outputId": "7e78c6f5-36ac-43ca-9c99-0bd048b0e2f5"
      },
      "source": [
        "num=int(input(\"Enter a positive integer\"))\n",
        "# Reverse a number\n",
        "x=num\n",
        "rev_num=0\n",
        "while (x>0):\n",
        "        rev_num=rev_num*10+x%10\n",
        "        x=int(x/10)\n",
        "#print(rev_num)        \n",
        "#Addition with reverse digit number\n",
        "num=num+rev_num\n",
        "print(num)\n",
        "# Reversing the sum\n",
        "x=num\n",
        "rev_num=0\n",
        "while (x>0):\n",
        "          rev_num=rev_num*10+x%10\n",
        "          x=int(x/10)\n",
        "# Checking palindrome\n",
        "for i in range(1,500):\n",
        "    if num==rev_num:\n",
        "        print(\"Palindrom found after\",i,\" number of steps\")\n",
        "        break\n",
        "    else:\n",
        "        #Addition with reverse digit number\n",
        "        num=num+rev_num\n",
        "        print(num)\n",
        "        # Reversing the sum\n",
        "        x=num\n",
        "        rev_num=0\n",
        "        while (x>0):\n",
        "            rev_num=rev_num*10+x%10\n",
        "            x=int(x/10)\n",
        "if (i==500 & (num!=rev_num)):\n",
        "    print(\"Palindrom not found after\",i,\" number of steps\") "
      ],
      "execution_count": null,
      "outputs": [
        {
          "output_type": "stream",
          "text": [
            "Enter a positive integer84\n",
            "132\n",
            "363\n",
            "Palindrom found after 2  number of steps\n"
          ],
          "name": "stdout"
        }
      ]
    },
    {
      "cell_type": "code",
      "metadata": {
        "id": "pRB6OnvtaPIH"
      },
      "source": [
        ""
      ],
      "execution_count": null,
      "outputs": []
    },
    {
      "cell_type": "markdown",
      "metadata": {
        "id": "IniZq_a3dnhn"
      },
      "source": [
        "## Problem - 7: Write a Python program to print the number of prime numbers which are less than or equal to a given integer."
      ]
    },
    {
      "cell_type": "code",
      "metadata": {
        "id": "wJ03FDiSdn9L",
        "colab": {
          "base_uri": "https://localhost:8080/"
        },
        "outputId": "bb81377f-12c8-4681-d981-8ea554056f92"
      },
      "source": [
        "N = int(input(\"Enter a positive integer = \"))\n",
        "NPN = 1\n",
        "i=3\n",
        "\n",
        "while(i <= N):\n",
        "  for x in range (2,int(i/2)+1):\n",
        "    if i%x == 0:\n",
        "      break\n",
        "  else:\n",
        "    NPN = NPN+1\n",
        "  i=i+1\n",
        "\n",
        "print(\"No of Prime Numbers upto \", N, \"is = \", NPN)"
      ],
      "execution_count": null,
      "outputs": [
        {
          "output_type": "stream",
          "text": [
            "Enter a positive integer = 25\n",
            "No of Prime Numbers upto  25 is =  9\n"
          ],
          "name": "stdout"
        }
      ]
    },
    {
      "cell_type": "code",
      "metadata": {
        "id": "slBuI7Ydd7Ob"
      },
      "source": [
        ""
      ],
      "execution_count": null,
      "outputs": []
    },
    {
      "cell_type": "markdown",
      "metadata": {
        "id": "Dl3NitXCd7fG"
      },
      "source": [
        "## Problem - 8: Write a Python program that accepts six numbers as input and sorts them in descending order."
      ]
    },
    {
      "cell_type": "code",
      "metadata": {
        "id": "kVvpayYNd7xq"
      },
      "source": [
        "# N is a List\n",
        "N=[]\n",
        "\n",
        "# Number of elemetns in List = 6\n",
        "n = 6\n",
        "\n",
        "# Accepting the numbers from user:\n",
        "for i in range(0, n):\n",
        "    print(\"Enter element no \", i+1, \" = \")\n",
        "    ele = int(input())\n",
        "    # Adding the element in List\n",
        "    N.append(ele) \n",
        "      \n",
        "print(\"The uploaded List is as follows:\")\n",
        "print(N)\n",
        "\n",
        "for i in range (0, n-1):\n",
        "  for j in range ((i+1),n):\n",
        "    if N[i] < N[j]:\n",
        "      temp = N[i]\n",
        "      N[i] = N[j]\n",
        "      N[j] = temp\n",
        "      \n",
        "print(\"The List arranged in descending order is as follows:\")\n",
        "print(N)"
      ],
      "execution_count": null,
      "outputs": []
    },
    {
      "cell_type": "code",
      "metadata": {
        "id": "EYtJleotadcP"
      },
      "source": [
        ""
      ],
      "execution_count": null,
      "outputs": []
    },
    {
      "cell_type": "markdown",
      "metadata": {
        "id": "eo9_g0i7adzH"
      },
      "source": [
        "## Problem - 9: . Write a Python program which reads a text (only alphabetical characters and spaces.) and prints two words. The first one is the word which arises most frequently in the text. The second one is the word which has the maximum number of letters."
      ]
    },
    {
      "cell_type": "code",
      "metadata": {
        "id": "0X5ZzKxRaeOL",
        "colab": {
          "base_uri": "https://localhost:8080/"
        },
        "outputId": "2425b9ab-20e3-46b3-fc48-d3c68225f4b9"
      },
      "source": [
        "s=input(\" Enter a text line:only alphabetical characters and spaces: \")\n",
        "s\n",
        "print(s.split(' '))\n",
        "x=s.split()\n",
        "print(type(x))\n",
        "temp=-1\n",
        "lw=\"\"\n",
        "for i in range(0,len(x)):\n",
        "    if len(x[i])>temp:\n",
        "        temp=len(x[i])\n",
        "        lw=x[i]\n",
        "print(\"Longest word is: \",lw,\" and its length is: \",temp)"
      ],
      "execution_count": null,
      "outputs": [
        {
          "output_type": "stream",
          "text": [
            " Enter a text line:only alphabetical characters and spaces: The book is on the table\n",
            "['The', 'book', 'is', 'on', 'the', 'table']\n",
            "<class 'list'>\n",
            "Longest word is:  table  and its length is:  5\n"
          ],
          "name": "stdout"
        }
      ]
    },
    {
      "cell_type": "code",
      "metadata": {
        "id": "SP85tulfaukY",
        "colab": {
          "base_uri": "https://localhost:8080/"
        },
        "outputId": "61a11712-ff61-4559-d64a-529535b13848"
      },
      "source": [
        "x=s.split()\n",
        "\n",
        "temp=0\n",
        "lw=\"\"\n",
        "for i in range(0,len(x)):\n",
        "      if x.count(x[i])>temp:\n",
        "            temp=x.count(x[i])\n",
        "            lw=x[i]\n",
        "            \n",
        "print(\"Most repeating word is: \",lw,\" and its frequency is: \",temp)"
      ],
      "execution_count": null,
      "outputs": [
        {
          "output_type": "stream",
          "text": [
            "Most repeating word is:  The  and its frequency is:  1\n"
          ],
          "name": "stdout"
        }
      ]
    },
    {
      "cell_type": "code",
      "metadata": {
        "id": "B4YuoR-nazFc"
      },
      "source": [
        ""
      ],
      "execution_count": null,
      "outputs": []
    },
    {
      "cell_type": "markdown",
      "metadata": {
        "id": "BUJw-vMaazz5"
      },
      "source": [
        "## Problem - 10: There is a JAR full of candies for sale at a mall counter. JAR has the capacity N, that is JAR can contain maximum N candies when JAR is full. At any point of time. JAR can have M number of Candies where M<=N. Candies are served to the customers. JAR never remains empty as when last k candies are left. JAR if refilled with new candies in such a way that JAR get full. Write a code to implement above scenario. Display JAR at the counter with available number of candies. Input should be the number of candies one customer can order at a point of time. Update the JAR after each purchase and display JAR at Counter. Output should give the number of Candies sold and updated number of Candies in JAR. If Input is more than candies in JAR, return: “INVALID INPUT” Given, N=10, where N is NUMBER OF CANDIES AVAILABLE, K =< 5, where k is number of minimum candies that must be inside JAR ever."
      ]
    },
    {
      "cell_type": "code",
      "metadata": {
        "id": "Tm2hGjAZa0QY",
        "colab": {
          "base_uri": "https://localhost:8080/"
        },
        "outputId": "5ba008bb-96a7-4626-9781-46158c870fc4"
      },
      "source": [
        "total_candies = 10\n",
        "no_of_candies = int(input(\"How many candies you want? \"))\n",
        "if no_of_candies in range(1, 6):\n",
        "\tprint('No. of Candies Sold:',no_of_candies)\n",
        "\tprint('No. of Candies Left:',total_candies-no_of_candies)\n",
        "else:\n",
        "\tprint(\"Sorry! Max 5 nos can be sold!\")\n",
        "\tprint('No. of Candies Left:',total_candies)"
      ],
      "execution_count": null,
      "outputs": [
        {
          "output_type": "stream",
          "text": [
            "How many candies you want? 2\n",
            "No. of Candies Sold: 2\n",
            "No. of Candies Left: 8\n"
          ],
          "name": "stdout"
        }
      ]
    }
  ]
}