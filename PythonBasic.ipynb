{
  "nbformat": 4,
  "nbformat_minor": 0,
  "metadata": {
    "colab": {
      "name": "PythonBasic.ipynb",
      "provenance": [],
      "authorship_tag": "ABX9TyOxkaOpNz5ASwQq1bMoWjK6",
      "include_colab_link": true
    },
    "kernelspec": {
      "name": "python3",
      "display_name": "Python 3"
    }
  },
  "cells": [
    {
      "cell_type": "markdown",
      "metadata": {
        "id": "view-in-github",
        "colab_type": "text"
      },
      "source": [
        "<a href=\"https://colab.research.google.com/github/nrbnbs/Python_Basics/blob/main/PythonBasic.ipynb\" target=\"_parent\"><img src=\"https://colab.research.google.com/assets/colab-badge.svg\" alt=\"Open In Colab\"/></a>"
      ]
    },
    {
      "cell_type": "code",
      "metadata": {
        "id": "1FVGWutJUHr1",
        "colab": {
          "base_uri": "https://localhost:8080/"
        },
        "outputId": "60b7c9b5-845d-4c64-d0c5-6f183b4013c0"
      },
      "source": [
        "print(\"Hello World\")"
      ],
      "execution_count": 1,
      "outputs": [
        {
          "output_type": "stream",
          "text": [
            "Hello World\n"
          ],
          "name": "stdout"
        }
      ]
    },
    {
      "cell_type": "markdown",
      "metadata": {
        "id": "606lkTRAtdx9"
      },
      "source": [
        "## **Python Variables: temporary storage of data**"
      ]
    },
    {
      "cell_type": "code",
      "metadata": {
        "id": "Q1rh0GFmu2VN",
        "colab": {
          "base_uri": "https://localhost:8080/",
          "height": 35
        },
        "outputId": "eab9567f-f8e9-4501-ba19-97b30578ba15"
      },
      "source": [
        "student='Shyam'\n",
        "student"
      ],
      "execution_count": 2,
      "outputs": [
        {
          "output_type": "execute_result",
          "data": {
            "application/vnd.google.colaboratory.intrinsic+json": {
              "type": "string"
            },
            "text/plain": [
              "'Shyam'"
            ]
          },
          "metadata": {
            "tags": []
          },
          "execution_count": 2
        }
      ]
    },
    {
      "cell_type": "markdown",
      "metadata": {
        "id": "t0_FdE3PvWtZ"
      },
      "source": [
        "## **Data Types in Python:**"
      ]
    },
    {
      "cell_type": "code",
      "metadata": {
        "id": "ekSPEOqrvTpZ",
        "colab": {
          "base_uri": "https://localhost:8080/"
        },
        "outputId": "f26349c7-4447-4b19-fdc4-704b83c0e6a5"
      },
      "source": [
        "x1=10\n",
        "x2=5.6\n",
        "x3=True\n",
        "x4='Ram'\n",
        "x=3+4j\n",
        "#print(type(x1),type(x2),type(x3),type(x4),type(x))\n",
        "type(x2)"
      ],
      "execution_count": 3,
      "outputs": [
        {
          "output_type": "execute_result",
          "data": {
            "text/plain": [
              "float"
            ]
          },
          "metadata": {
            "tags": []
          },
          "execution_count": 3
        }
      ]
    },
    {
      "cell_type": "markdown",
      "metadata": {
        "id": "paSKgoAJx66N"
      },
      "source": [
        "##**Operators in Python**"
      ]
    },
    {
      "cell_type": "markdown",
      "metadata": {
        "id": "Db4aaPlCzIny"
      },
      "source": [
        "Arithmatic operator: +, -, *, /, %"
      ]
    },
    {
      "cell_type": "code",
      "metadata": {
        "id": "NMD9neJEyDAK",
        "colab": {
          "base_uri": "https://localhost:8080/"
        },
        "outputId": "7870f002-c9ed-4065-dc11-6868faa1b6eb"
      },
      "source": [
        "a=10\n",
        "b=20\n",
        "c=a+b\n",
        "c"
      ],
      "execution_count": 4,
      "outputs": [
        {
          "output_type": "execute_result",
          "data": {
            "text/plain": [
              "30"
            ]
          },
          "metadata": {
            "tags": []
          },
          "execution_count": 4
        }
      ]
    },
    {
      "cell_type": "code",
      "metadata": {
        "id": "V7LjkRFl7tj5",
        "colab": {
          "base_uri": "https://localhost:8080/"
        },
        "outputId": "2a9f0cd9-d17d-46a2-82d4-fba613abc2eb"
      },
      "source": [
        "x=10%6\n",
        "x"
      ],
      "execution_count": 5,
      "outputs": [
        {
          "output_type": "execute_result",
          "data": {
            "text/plain": [
              "4"
            ]
          },
          "metadata": {
            "tags": []
          },
          "execution_count": 5
        }
      ]
    },
    {
      "cell_type": "markdown",
      "metadata": {
        "id": "_hCMy2k_zTbK"
      },
      "source": [
        "Relation operator: <, >, ==, !="
      ]
    },
    {
      "cell_type": "code",
      "metadata": {
        "id": "OU6r4_JDzc47",
        "colab": {
          "base_uri": "https://localhost:8080/"
        },
        "outputId": "cd904279-0ae8-4bc9-cdfc-5034d22a6bba"
      },
      "source": [
        "a>b"
      ],
      "execution_count": 6,
      "outputs": [
        {
          "output_type": "execute_result",
          "data": {
            "text/plain": [
              "False"
            ]
          },
          "metadata": {
            "tags": []
          },
          "execution_count": 6
        }
      ]
    },
    {
      "cell_type": "markdown",
      "metadata": {
        "id": "beWgjXry0Kcx"
      },
      "source": [
        "Logical operators: &, |"
      ]
    },
    {
      "cell_type": "code",
      "metadata": {
        "id": "LPJv78yy0UvU",
        "colab": {
          "base_uri": "https://localhost:8080/"
        },
        "outputId": "7aef6c43-7b2e-4dbd-83b7-c8300982443d"
      },
      "source": [
        "a=True\n",
        "b=False\n",
        "a & b"
      ],
      "execution_count": 7,
      "outputs": [
        {
          "output_type": "execute_result",
          "data": {
            "text/plain": [
              "False"
            ]
          },
          "metadata": {
            "tags": []
          },
          "execution_count": 7
        }
      ]
    },
    {
      "cell_type": "code",
      "metadata": {
        "id": "9ynOn-t003Sj",
        "colab": {
          "base_uri": "https://localhost:8080/"
        },
        "outputId": "cd3f1072-51b0-40c8-b221-3ea1593d6783"
      },
      "source": [
        "a & a"
      ],
      "execution_count": 8,
      "outputs": [
        {
          "output_type": "execute_result",
          "data": {
            "text/plain": [
              "True"
            ]
          },
          "metadata": {
            "tags": []
          },
          "execution_count": 8
        }
      ]
    },
    {
      "cell_type": "code",
      "metadata": {
        "id": "ipj19H_e06_C",
        "colab": {
          "base_uri": "https://localhost:8080/"
        },
        "outputId": "f6abdb2d-5362-4a49-eca3-9b65a653e2b9"
      },
      "source": [
        "a | b"
      ],
      "execution_count": 9,
      "outputs": [
        {
          "output_type": "execute_result",
          "data": {
            "text/plain": [
              "True"
            ]
          },
          "metadata": {
            "tags": []
          },
          "execution_count": 9
        }
      ]
    },
    {
      "cell_type": "code",
      "metadata": {
        "id": "pXu4w0cu1Ay7",
        "colab": {
          "base_uri": "https://localhost:8080/"
        },
        "outputId": "c1830d93-d5ae-4551-bf39-ac35d3f45740"
      },
      "source": [
        "b | b"
      ],
      "execution_count": 10,
      "outputs": [
        {
          "output_type": "execute_result",
          "data": {
            "text/plain": [
              "False"
            ]
          },
          "metadata": {
            "tags": []
          },
          "execution_count": 10
        }
      ]
    },
    {
      "cell_type": "markdown",
      "metadata": {
        "id": "TTpSjDs_2rPU"
      },
      "source": [
        "##**Strings: \"\", '', ''''''**"
      ]
    },
    {
      "cell_type": "code",
      "metadata": {
        "id": "xvi4lRJx26eU",
        "colab": {
          "base_uri": "https://localhost:8080/",
          "height": 35
        },
        "outputId": "e535863b-0f56-4635-a3e7-e0f83b8f01b8"
      },
      "source": [
        "str1=\"Hello world\"\n",
        "str1=\"It's a beautiful picture.\"\n",
        "str3='''This book is old.\n",
        "But it will help you a lot. '''\n",
        "str1\n",
        "\n"
      ],
      "execution_count": 11,
      "outputs": [
        {
          "output_type": "execute_result",
          "data": {
            "application/vnd.google.colaboratory.intrinsic+json": {
              "type": "string"
            },
            "text/plain": [
              "\"It's a beautiful picture.\""
            ]
          },
          "metadata": {
            "tags": []
          },
          "execution_count": 11
        }
      ]
    },
    {
      "cell_type": "markdown",
      "metadata": {
        "id": "D1mS6wUHFVLO"
      },
      "source": [
        "## **Extracting characters from string**"
      ]
    },
    {
      "cell_type": "code",
      "metadata": {
        "id": "Sc8-z8k2Fpxy",
        "colab": {
          "base_uri": "https://localhost:8080/",
          "height": 35
        },
        "outputId": "4a3f6e3a-631a-4573-979f-9e4ac940a2c7"
      },
      "source": [
        "str4='Aman isxh a good boy'\n",
        "str4[0]"
      ],
      "execution_count": 12,
      "outputs": [
        {
          "output_type": "execute_result",
          "data": {
            "application/vnd.google.colaboratory.intrinsic+json": {
              "type": "string"
            },
            "text/plain": [
              "'A'"
            ]
          },
          "metadata": {
            "tags": []
          },
          "execution_count": 12
        }
      ]
    },
    {
      "cell_type": "code",
      "metadata": {
        "id": "e7Otyn9-F_Mn",
        "colab": {
          "base_uri": "https://localhost:8080/",
          "height": 35
        },
        "outputId": "197a31a1-8970-4e69-ba4c-cec85faf449a"
      },
      "source": [
        "str4[-1]"
      ],
      "execution_count": 13,
      "outputs": [
        {
          "output_type": "execute_result",
          "data": {
            "application/vnd.google.colaboratory.intrinsic+json": {
              "type": "string"
            },
            "text/plain": [
              "'y'"
            ]
          },
          "metadata": {
            "tags": []
          },
          "execution_count": 13
        }
      ]
    },
    {
      "cell_type": "code",
      "metadata": {
        "id": "z2TurR0iGaw0",
        "colab": {
          "base_uri": "https://localhost:8080/",
          "height": 35
        },
        "outputId": "7c13e06d-b49a-4490-f524-0d18d4016fcc"
      },
      "source": [
        "str4[5:8]"
      ],
      "execution_count": 14,
      "outputs": [
        {
          "output_type": "execute_result",
          "data": {
            "application/vnd.google.colaboratory.intrinsic+json": {
              "type": "string"
            },
            "text/plain": [
              "'isx'"
            ]
          },
          "metadata": {
            "tags": []
          },
          "execution_count": 14
        }
      ]
    },
    {
      "cell_type": "code",
      "metadata": {
        "id": "M_futGgAHILd",
        "colab": {
          "base_uri": "https://localhost:8080/"
        },
        "outputId": "c4b12f10-3e3a-4c53-d29b-6a8829bd699f"
      },
      "source": [
        "len(str4)"
      ],
      "execution_count": 15,
      "outputs": [
        {
          "output_type": "execute_result",
          "data": {
            "text/plain": [
              "20"
            ]
          },
          "metadata": {
            "tags": []
          },
          "execution_count": 15
        }
      ]
    },
    {
      "cell_type": "code",
      "metadata": {
        "id": "feU9c-GnHXM9",
        "colab": {
          "base_uri": "https://localhost:8080/",
          "height": 35
        },
        "outputId": "13e7173a-e6df-4d70-a754-c40b390e1f7e"
      },
      "source": [
        "str4.lower()"
      ],
      "execution_count": 16,
      "outputs": [
        {
          "output_type": "execute_result",
          "data": {
            "application/vnd.google.colaboratory.intrinsic+json": {
              "type": "string"
            },
            "text/plain": [
              "'aman isxh a good boy'"
            ]
          },
          "metadata": {
            "tags": []
          },
          "execution_count": 16
        }
      ]
    },
    {
      "cell_type": "code",
      "metadata": {
        "id": "kySQrdMlHgcQ",
        "colab": {
          "base_uri": "https://localhost:8080/",
          "height": 35
        },
        "outputId": "a2da11c5-c3a7-479d-c658-28452c72ef12"
      },
      "source": [
        "str4.upper()"
      ],
      "execution_count": 17,
      "outputs": [
        {
          "output_type": "execute_result",
          "data": {
            "application/vnd.google.colaboratory.intrinsic+json": {
              "type": "string"
            },
            "text/plain": [
              "'AMAN ISXH A GOOD BOY'"
            ]
          },
          "metadata": {
            "tags": []
          },
          "execution_count": 17
        }
      ]
    },
    {
      "cell_type": "code",
      "metadata": {
        "id": "ne7uxhxMIG3R",
        "colab": {
          "base_uri": "https://localhost:8080/",
          "height": 35
        },
        "outputId": "542b856c-1477-4f7a-dbc3-06242b716590"
      },
      "source": [
        "str4.replace('Aman','Ajay')"
      ],
      "execution_count": 18,
      "outputs": [
        {
          "output_type": "execute_result",
          "data": {
            "application/vnd.google.colaboratory.intrinsic+json": {
              "type": "string"
            },
            "text/plain": [
              "'Ajay isxh a good boy'"
            ]
          },
          "metadata": {
            "tags": []
          },
          "execution_count": 18
        }
      ]
    },
    {
      "cell_type": "code",
      "metadata": {
        "id": "-wp7jwoXIz_A",
        "colab": {
          "base_uri": "https://localhost:8080/"
        },
        "outputId": "d4737eb8-44ae-41d4-e825-0f062ac2e953"
      },
      "source": [
        "str5='the ball in on the table.'\n",
        "str5.count('al')"
      ],
      "execution_count": 19,
      "outputs": [
        {
          "output_type": "execute_result",
          "data": {
            "text/plain": [
              "1"
            ]
          },
          "metadata": {
            "tags": []
          },
          "execution_count": 19
        }
      ]
    },
    {
      "cell_type": "code",
      "metadata": {
        "id": "sX1n-DTLJVUd",
        "colab": {
          "base_uri": "https://localhost:8080/"
        },
        "outputId": "d3175bf1-8ef0-4389-d72e-549206830e68"
      },
      "source": [
        "str5.find('ball')"
      ],
      "execution_count": 20,
      "outputs": [
        {
          "output_type": "execute_result",
          "data": {
            "text/plain": [
              "4"
            ]
          },
          "metadata": {
            "tags": []
          },
          "execution_count": 20
        }
      ]
    },
    {
      "cell_type": "code",
      "metadata": {
        "id": "Fugs3-haJiPh",
        "colab": {
          "base_uri": "https://localhost:8080/"
        },
        "outputId": "051f81e1-7191-4678-8de9-91f79848a32c"
      },
      "source": [
        "str5.split(' ')"
      ],
      "execution_count": 21,
      "outputs": [
        {
          "output_type": "execute_result",
          "data": {
            "text/plain": [
              "['the', 'ball', 'in', 'on', 'the', 'table.']"
            ]
          },
          "metadata": {
            "tags": []
          },
          "execution_count": 21
        }
      ]
    },
    {
      "cell_type": "markdown",
      "metadata": {
        "id": "OLft0_AwJ4ne"
      },
      "source": [
        "#**Data Structure in Python**"
      ]
    },
    {
      "cell_type": "markdown",
      "metadata": {
        "id": "VpHieZBhvUTa"
      },
      "source": [
        "##**Tuple** : ordered elements enclosed in **()**, **List**: ordered elements enclosed in **[]**), **Dictionary**: Unordered collection of key-Value pair enclosed in **{}**, **Set**: unordered, unindexed collection of elements enclosed in **{}**"
      ]
    },
    {
      "cell_type": "code",
      "metadata": {
        "id": "X7tfiaZQKNS7",
        "colab": {
          "base_uri": "https://localhost:8080/"
        },
        "outputId": "90bf5906-0537-4cc7-dd16-7d3dac53248d"
      },
      "source": [
        "#Tuple\n",
        "tup1=('a',5,True,3.45)\n",
        "type(tup1)"
      ],
      "execution_count": 22,
      "outputs": [
        {
          "output_type": "execute_result",
          "data": {
            "text/plain": [
              "tuple"
            ]
          },
          "metadata": {
            "tags": []
          },
          "execution_count": 22
        }
      ]
    },
    {
      "cell_type": "code",
      "metadata": {
        "id": "2a5dMyPPV3sJ",
        "colab": {
          "base_uri": "https://localhost:8080/"
        },
        "outputId": "6a2b47ee-2a2f-46cd-dd89-acfd0e54d75b"
      },
      "source": [
        "tup1[1]"
      ],
      "execution_count": 23,
      "outputs": [
        {
          "output_type": "execute_result",
          "data": {
            "text/plain": [
              "5"
            ]
          },
          "metadata": {
            "tags": []
          },
          "execution_count": 23
        }
      ]
    },
    {
      "cell_type": "code",
      "metadata": {
        "id": "RPEEezbRV_49",
        "colab": {
          "base_uri": "https://localhost:8080/"
        },
        "outputId": "b2c5b350-ea58-46c7-d312-1e7a88b6d693"
      },
      "source": [
        "tup1[1:3]"
      ],
      "execution_count": 24,
      "outputs": [
        {
          "output_type": "execute_result",
          "data": {
            "text/plain": [
              "(5, True)"
            ]
          },
          "metadata": {
            "tags": []
          },
          "execution_count": 24
        }
      ]
    },
    {
      "cell_type": "code",
      "metadata": {
        "id": "HwcWIe80WVnV",
        "colab": {
          "base_uri": "https://localhost:8080/",
          "height": 180
        },
        "outputId": "92f53754-e9be-4c18-dd17-cdf207e787cc"
      },
      "source": [
        "# tuple is immutable\n",
        "tup1[0]='b'"
      ],
      "execution_count": 25,
      "outputs": [
        {
          "output_type": "error",
          "ename": "TypeError",
          "evalue": "ignored",
          "traceback": [
            "\u001b[0;31m---------------------------------------------------------------------------\u001b[0m",
            "\u001b[0;31mTypeError\u001b[0m                                 Traceback (most recent call last)",
            "\u001b[0;32m<ipython-input-25-8eba002e2246>\u001b[0m in \u001b[0;36m<module>\u001b[0;34m()\u001b[0m\n\u001b[1;32m      1\u001b[0m \u001b[0;31m# tuple is immutable\u001b[0m\u001b[0;34m\u001b[0m\u001b[0;34m\u001b[0m\u001b[0;34m\u001b[0m\u001b[0m\n\u001b[0;32m----> 2\u001b[0;31m \u001b[0mtup1\u001b[0m\u001b[0;34m[\u001b[0m\u001b[0;36m0\u001b[0m\u001b[0;34m]\u001b[0m\u001b[0;34m=\u001b[0m\u001b[0;34m'b'\u001b[0m\u001b[0;34m\u001b[0m\u001b[0;34m\u001b[0m\u001b[0m\n\u001b[0m",
            "\u001b[0;31mTypeError\u001b[0m: 'tuple' object does not support item assignment"
          ]
        }
      ]
    },
    {
      "cell_type": "code",
      "metadata": {
        "id": "tzlUDmciWgbd",
        "colab": {
          "base_uri": "https://localhost:8080/"
        },
        "outputId": "212b2996-01ed-4cb6-dbec-97b893702bb5"
      },
      "source": [
        "#concatenation of two tuples\n",
        "tup2=(1,2,3)\n",
        "tup3= (4,5,6)\n",
        "tup4=tup2+tup3\n",
        "tup4"
      ],
      "execution_count": 26,
      "outputs": [
        {
          "output_type": "execute_result",
          "data": {
            "text/plain": [
              "(1, 2, 3, 4, 5, 6)"
            ]
          },
          "metadata": {
            "tags": []
          },
          "execution_count": 26
        }
      ]
    },
    {
      "cell_type": "code",
      "metadata": {
        "id": "doEo_vSyXQ4o",
        "colab": {
          "base_uri": "https://localhost:8080/"
        },
        "outputId": "06595fbb-6767-4192-bad9-1ca0455985db"
      },
      "source": [
        "#  min & max\n",
        "min(tup2),max(tup2)"
      ],
      "execution_count": 27,
      "outputs": [
        {
          "output_type": "execute_result",
          "data": {
            "text/plain": [
              "(1, 3)"
            ]
          },
          "metadata": {
            "tags": []
          },
          "execution_count": 27
        }
      ]
    },
    {
      "cell_type": "code",
      "metadata": {
        "id": "5qTVtl3_YB6H",
        "colab": {
          "base_uri": "https://localhost:8080/"
        },
        "outputId": "ab0eeb87-1801-4276-a711-8ec21477420d"
      },
      "source": [
        "#List\n",
        "l1=['a',4,3.45]\n",
        "l1\n"
      ],
      "execution_count": 28,
      "outputs": [
        {
          "output_type": "execute_result",
          "data": {
            "text/plain": [
              "['a', 4, 3.45]"
            ]
          },
          "metadata": {
            "tags": []
          },
          "execution_count": 28
        }
      ]
    },
    {
      "cell_type": "code",
      "metadata": {
        "id": "rPZ2gzhUYSWS",
        "colab": {
          "base_uri": "https://localhost:8080/"
        },
        "outputId": "12569779-98ee-40ba-a7bb-affb5260e8d0"
      },
      "source": [
        "l1[2]"
      ],
      "execution_count": 29,
      "outputs": [
        {
          "output_type": "execute_result",
          "data": {
            "text/plain": [
              "3.45"
            ]
          },
          "metadata": {
            "tags": []
          },
          "execution_count": 29
        }
      ]
    },
    {
      "cell_type": "code",
      "metadata": {
        "id": "Aud7yAW-YcOp",
        "colab": {
          "base_uri": "https://localhost:8080/"
        },
        "outputId": "7e32b3e1-7d97-4a56-d191-b7ab36377519"
      },
      "source": [
        "# List is mutable\n",
        "l1[2]='b'\n",
        "l1"
      ],
      "execution_count": 30,
      "outputs": [
        {
          "output_type": "execute_result",
          "data": {
            "text/plain": [
              "['a', 4, 'b']"
            ]
          },
          "metadata": {
            "tags": []
          },
          "execution_count": 30
        }
      ]
    },
    {
      "cell_type": "code",
      "metadata": {
        "id": "wASK73kMY2hR",
        "colab": {
          "base_uri": "https://localhost:8080/"
        },
        "outputId": "0d27cd0a-7d2a-4b84-e12e-c1ceafaa4b53"
      },
      "source": [
        "l1.append(3.45)\n",
        "l1"
      ],
      "execution_count": 31,
      "outputs": [
        {
          "output_type": "execute_result",
          "data": {
            "text/plain": [
              "['a', 4, 'b', 3.45]"
            ]
          },
          "metadata": {
            "tags": []
          },
          "execution_count": 31
        }
      ]
    },
    {
      "cell_type": "code",
      "metadata": {
        "id": "i3ByGyyXZ3BI",
        "colab": {
          "base_uri": "https://localhost:8080/"
        },
        "outputId": "d9b58c18-2d3d-409f-8ab3-8fe499ec3ad7"
      },
      "source": [
        "l1.append(\"c\")\n",
        "l1"
      ],
      "execution_count": 32,
      "outputs": [
        {
          "output_type": "execute_result",
          "data": {
            "text/plain": [
              "['a', 4, 'b', 3.45, 'c']"
            ]
          },
          "metadata": {
            "tags": []
          },
          "execution_count": 32
        }
      ]
    },
    {
      "cell_type": "code",
      "metadata": {
        "id": "remJ-ozKaFBg",
        "colab": {
          "base_uri": "https://localhost:8080/"
        },
        "outputId": "3544af41-9ff3-42d9-bbd1-69b7f12a503b"
      },
      "source": [
        "l1.pop()\n",
        "l1"
      ],
      "execution_count": 33,
      "outputs": [
        {
          "output_type": "execute_result",
          "data": {
            "text/plain": [
              "['a', 4, 'b', 3.45]"
            ]
          },
          "metadata": {
            "tags": []
          },
          "execution_count": 33
        }
      ]
    },
    {
      "cell_type": "code",
      "metadata": {
        "id": "XuxckSoiagcE",
        "colab": {
          "base_uri": "https://localhost:8080/"
        },
        "outputId": "ecd99ba1-77ac-4189-88ce-2919e1405f8a"
      },
      "source": [
        "l1.reverse()\n",
        "l1\n"
      ],
      "execution_count": 34,
      "outputs": [
        {
          "output_type": "execute_result",
          "data": {
            "text/plain": [
              "[3.45, 'b', 4, 'a']"
            ]
          },
          "metadata": {
            "tags": []
          },
          "execution_count": 34
        }
      ]
    },
    {
      "cell_type": "code",
      "metadata": {
        "id": "-8ih5A2SarZr",
        "colab": {
          "base_uri": "https://localhost:8080/"
        },
        "outputId": "275ca30e-fd1b-4162-be97-cc9bbac7ddf4"
      },
      "source": [
        "l1.insert(1,'Hello')\n",
        "l1"
      ],
      "execution_count": 35,
      "outputs": [
        {
          "output_type": "execute_result",
          "data": {
            "text/plain": [
              "[3.45, 'Hello', 'b', 4, 'a']"
            ]
          },
          "metadata": {
            "tags": []
          },
          "execution_count": 35
        }
      ]
    },
    {
      "cell_type": "code",
      "metadata": {
        "id": "ibSqccCEbBuu",
        "colab": {
          "base_uri": "https://localhost:8080/"
        },
        "outputId": "ee66907d-fa2b-4f38-e3eb-33756771e997"
      },
      "source": [
        "l2=['g','m','u','a','d']\n",
        "l2.sort()\n",
        "l2"
      ],
      "execution_count": 36,
      "outputs": [
        {
          "output_type": "execute_result",
          "data": {
            "text/plain": [
              "['a', 'd', 'g', 'm', 'u']"
            ]
          },
          "metadata": {
            "tags": []
          },
          "execution_count": 36
        }
      ]
    },
    {
      "cell_type": "code",
      "metadata": {
        "id": "bCzeqokIb10H",
        "colab": {
          "base_uri": "https://localhost:8080/"
        },
        "outputId": "18b8166d-0489-43e3-9043-81a4a4142a23"
      },
      "source": [
        "# Contatinating & Repeating of list\n",
        "l3=[5,7,9]\n",
        "l4=[1,2,3]\n",
        "l5=l3+l4\n",
        "l5\n"
      ],
      "execution_count": 37,
      "outputs": [
        {
          "output_type": "execute_result",
          "data": {
            "text/plain": [
              "[5, 7, 9, 1, 2, 3]"
            ]
          },
          "metadata": {
            "tags": []
          },
          "execution_count": 37
        }
      ]
    },
    {
      "cell_type": "code",
      "metadata": {
        "id": "WL0Fy5_RcTnc",
        "colab": {
          "base_uri": "https://localhost:8080/"
        },
        "outputId": "7ec6f042-4224-440f-8e0a-63a2f8ae346e"
      },
      "source": [
        "l3*2+l4"
      ],
      "execution_count": 38,
      "outputs": [
        {
          "output_type": "execute_result",
          "data": {
            "text/plain": [
              "[5, 7, 9, 5, 7, 9, 1, 2, 3]"
            ]
          },
          "metadata": {
            "tags": []
          },
          "execution_count": 38
        }
      ]
    },
    {
      "cell_type": "code",
      "metadata": {
        "id": "qZpO79Krc7H3",
        "colab": {
          "base_uri": "https://localhost:8080/"
        },
        "outputId": "d9afa9a8-7bef-4033-809e-a3e56fa46d85"
      },
      "source": [
        "# Dictionary\n",
        "dic1={\"apple\":10,\"orange\":20}\n",
        "type(dic1)\n"
      ],
      "execution_count": 39,
      "outputs": [
        {
          "output_type": "execute_result",
          "data": {
            "text/plain": [
              "dict"
            ]
          },
          "metadata": {
            "tags": []
          },
          "execution_count": 39
        }
      ]
    },
    {
      "cell_type": "code",
      "metadata": {
        "id": "lPoByui1d2cu",
        "colab": {
          "base_uri": "https://localhost:8080/"
        },
        "outputId": "fd7359d5-853e-44d4-b298-3b0dccf4f36f"
      },
      "source": [
        "dic1.keys(), dic1.values()"
      ],
      "execution_count": 40,
      "outputs": [
        {
          "output_type": "execute_result",
          "data": {
            "text/plain": [
              "(dict_keys(['apple', 'orange']), dict_values([10, 20]))"
            ]
          },
          "metadata": {
            "tags": []
          },
          "execution_count": 40
        }
      ]
    },
    {
      "cell_type": "code",
      "metadata": {
        "id": "gbqZghkReJ91",
        "colab": {
          "base_uri": "https://localhost:8080/"
        },
        "outputId": "da690e9e-03ac-477e-c76b-b17c519a87e0"
      },
      "source": [
        "# Adding & changing the existing values\n",
        "dic1[\"mango\"]=50\n",
        "dic1[\"apple\"]=100\n",
        "dic1"
      ],
      "execution_count": 41,
      "outputs": [
        {
          "output_type": "execute_result",
          "data": {
            "text/plain": [
              "{'apple': 100, 'mango': 50, 'orange': 20}"
            ]
          },
          "metadata": {
            "tags": []
          },
          "execution_count": 41
        }
      ]
    },
    {
      "cell_type": "code",
      "metadata": {
        "id": "dLX4RV0PfUGe",
        "colab": {
          "base_uri": "https://localhost:8080/"
        },
        "outputId": "74ec245d-19b5-456a-84ff-8448093733a1"
      },
      "source": [
        "dic2={\"kiwi\":40,\"banana\":5}\n",
        "dic1.update(dic2)\n",
        "dic1"
      ],
      "execution_count": 42,
      "outputs": [
        {
          "output_type": "execute_result",
          "data": {
            "text/plain": [
              "{'apple': 100, 'banana': 5, 'kiwi': 40, 'mango': 50, 'orange': 20}"
            ]
          },
          "metadata": {
            "tags": []
          },
          "execution_count": 42
        }
      ]
    },
    {
      "cell_type": "code",
      "metadata": {
        "id": "fmjmEt9SfojK",
        "colab": {
          "base_uri": "https://localhost:8080/"
        },
        "outputId": "aa747f24-02c9-461d-8bf0-e67453e70a42"
      },
      "source": [
        "dic1.pop(\"kiwi\")\n",
        "dic1"
      ],
      "execution_count": 43,
      "outputs": [
        {
          "output_type": "execute_result",
          "data": {
            "text/plain": [
              "{'apple': 100, 'banana': 5, 'mango': 50, 'orange': 20}"
            ]
          },
          "metadata": {
            "tags": []
          },
          "execution_count": 43
        }
      ]
    },
    {
      "cell_type": "code",
      "metadata": {
        "id": "u5Ww_yhehVt0",
        "colab": {
          "base_uri": "https://localhost:8080/"
        },
        "outputId": "2a8976b1-73ff-4efa-d2fe-78bd7af56c54"
      },
      "source": [
        "# Set\n",
        "set1={4,\"f\",6.78,23,23,23}\n",
        "type(set1), set1"
      ],
      "execution_count": 44,
      "outputs": [
        {
          "output_type": "execute_result",
          "data": {
            "text/plain": [
              "(set, {23, 4, 6.78, 'f'})"
            ]
          },
          "metadata": {
            "tags": []
          },
          "execution_count": 44
        }
      ]
    },
    {
      "cell_type": "code",
      "metadata": {
        "id": "BUxF7_nuhrbU",
        "colab": {
          "base_uri": "https://localhost:8080/"
        },
        "outputId": "5758d54b-b616-4989-d6e6-3382ce556804"
      },
      "source": [
        "#Adding and removing elements from set\n",
        "set1.add(11)\n",
        "set1"
      ],
      "execution_count": 45,
      "outputs": [
        {
          "output_type": "execute_result",
          "data": {
            "text/plain": [
              "{11, 23, 4, 6.78, 'f'}"
            ]
          },
          "metadata": {
            "tags": []
          },
          "execution_count": 45
        }
      ]
    },
    {
      "cell_type": "code",
      "metadata": {
        "id": "ha-DavmqiOXa",
        "colab": {
          "base_uri": "https://localhost:8080/"
        },
        "outputId": "c23010b7-4d33-4f9c-d9f6-ee8c04278ce0"
      },
      "source": [
        "set1.update([\"a\",\"b\"])\n",
        "set1"
      ],
      "execution_count": 46,
      "outputs": [
        {
          "output_type": "execute_result",
          "data": {
            "text/plain": [
              "{11, 23, 4, 6.78, 'a', 'b', 'f'}"
            ]
          },
          "metadata": {
            "tags": []
          },
          "execution_count": 46
        }
      ]
    },
    {
      "cell_type": "code",
      "metadata": {
        "id": "DmfFoxd-ig4s",
        "colab": {
          "base_uri": "https://localhost:8080/"
        },
        "outputId": "21ba881b-614d-492a-f2eb-7373f2ba0421"
      },
      "source": [
        "set1.remove('b')\n",
        "set1"
      ],
      "execution_count": 47,
      "outputs": [
        {
          "output_type": "execute_result",
          "data": {
            "text/plain": [
              "{11, 23, 4, 6.78, 'a', 'f'}"
            ]
          },
          "metadata": {
            "tags": []
          },
          "execution_count": 47
        }
      ]
    },
    {
      "cell_type": "code",
      "metadata": {
        "id": "EvtQs3IujSGG",
        "colab": {
          "base_uri": "https://localhost:8080/"
        },
        "outputId": "555dc8a6-9485-41c2-86c1-672095b75280"
      },
      "source": [
        "set3={4,\"f\",'m',34}\n",
        "set1.intersection(set3), set1.union(set3)\n",
        "\n"
      ],
      "execution_count": 48,
      "outputs": [
        {
          "output_type": "execute_result",
          "data": {
            "text/plain": [
              "({4, 'f'}, {11, 23, 34, 4, 6.78, 'a', 'f', 'm'})"
            ]
          },
          "metadata": {
            "tags": []
          },
          "execution_count": 48
        }
      ]
    },
    {
      "cell_type": "markdown",
      "metadata": {
        "id": "vLi6KI3Hj-uF"
      },
      "source": [
        "# **if,elif & else Statements**"
      ]
    },
    {
      "cell_type": "code",
      "metadata": {
        "id": "SOwS9GLgkIaC",
        "colab": {
          "base_uri": "https://localhost:8080/"
        },
        "outputId": "bada0a40-fd37-4442-f604-9adb6d9972bb"
      },
      "source": [
        "k=20\n",
        "r=118\n",
        "if k>r:\n",
        "    print(\"k is greater than r\")\n",
        "else:\n",
        "    print(\"k is less than r\")"
      ],
      "execution_count": 49,
      "outputs": [
        {
          "output_type": "stream",
          "text": [
            "k is less than r\n"
          ],
          "name": "stdout"
        }
      ]
    },
    {
      "cell_type": "code",
      "metadata": {
        "id": "389Bs0yXmNv5",
        "colab": {
          "base_uri": "https://localhost:8080/"
        },
        "outputId": "67cad402-c6e5-4703-d2e3-6003c95f03b3"
      },
      "source": [
        "# Find greatest among a,b,c\n",
        "c=32\n",
        "b=27\n",
        "a=29\n",
        "if (a>b) & (a>c):\n",
        "    print(\"A is greatest\")\n",
        "elif (b>a) & (b>c):\n",
        "    print(\" B is greatest\")\n",
        "else:\n",
        "    print(\"C is greatest\")"
      ],
      "execution_count": 50,
      "outputs": [
        {
          "output_type": "stream",
          "text": [
            "C is greatest\n"
          ],
          "name": "stdout"
        }
      ]
    },
    {
      "cell_type": "code",
      "metadata": {
        "id": "R6vGcmO5oeB8",
        "colab": {
          "base_uri": "https://localhost:8080/"
        },
        "outputId": "1e01d7ee-1c21-4a62-ef05-8238140709c5"
      },
      "source": [
        "tup4=('a','b','c')\n",
        "if 's' in tup4:\n",
        "    print(\"Yes\")\n",
        "else:\n",
        "    print(\"No\")"
      ],
      "execution_count": 51,
      "outputs": [
        {
          "output_type": "stream",
          "text": [
            "No\n"
          ],
          "name": "stdout"
        }
      ]
    },
    {
      "cell_type": "code",
      "metadata": {
        "id": "mqP96BFfpP0R",
        "colab": {
          "base_uri": "https://localhost:8080/"
        },
        "outputId": "e3fcd39b-a4b6-4d0d-8ccf-9c7d225a377c"
      },
      "source": [
        "l1=['a','b',10,'d']\n",
        "if l1[0]=='a':\n",
        "  l1[0]=1\n",
        "if l1[2]=='c':\n",
        "   l1[2]=3\n",
        "l1 "
      ],
      "execution_count": 52,
      "outputs": [
        {
          "output_type": "execute_result",
          "data": {
            "text/plain": [
              "[1, 'b', 10, 'd']"
            ]
          },
          "metadata": {
            "tags": []
          },
          "execution_count": 52
        }
      ]
    },
    {
      "cell_type": "code",
      "metadata": {
        "id": "1hwC-vVEjLhU",
        "colab": {
          "base_uri": "https://localhost:8080/"
        },
        "outputId": "0874bef0-7bb5-4b11-cb1a-650966839902"
      },
      "source": [
        "d1={\"k1\":24,\"k2\":54,\"k3\":89}\n",
        "if d1[\"k2\"]<50:\n",
        "    d1[\"k2\"]=d1[\"k2\"]+50\n",
        "else:\n",
        "    d1[\"k2\"]=d1[\"k2\"]-50\n",
        "d1"
      ],
      "execution_count": 53,
      "outputs": [
        {
          "output_type": "execute_result",
          "data": {
            "text/plain": [
              "{'k1': 24, 'k2': 4, 'k3': 89}"
            ]
          },
          "metadata": {
            "tags": []
          },
          "execution_count": 53
        }
      ]
    },
    {
      "cell_type": "markdown",
      "metadata": {
        "id": "L9QeTEfjkogh"
      },
      "source": [
        "#**While & For Loops**"
      ]
    },
    {
      "cell_type": "code",
      "metadata": {
        "id": "tTMWzcYGkwS2",
        "colab": {
          "base_uri": "https://localhost:8080/"
        },
        "outputId": "4c6ed694-deff-4367-9971-10addbf8f52a"
      },
      "source": [
        "#While loop\n",
        "i=1\n",
        "while i<=10:\n",
        "      print(i)\n",
        "      i=i+1\n"
      ],
      "execution_count": 54,
      "outputs": [
        {
          "output_type": "stream",
          "text": [
            "1\n",
            "2\n",
            "3\n",
            "4\n",
            "5\n",
            "6\n",
            "7\n",
            "8\n",
            "9\n",
            "10\n"
          ],
          "name": "stdout"
        }
      ]
    },
    {
      "cell_type": "code",
      "metadata": {
        "id": "BQlb7YsPmZPc",
        "colab": {
          "base_uri": "https://localhost:8080/"
        },
        "outputId": "3c78ccd5-eeff-47e4-d661-671cde6810f9"
      },
      "source": [
        "i=1\n",
        "n=4\n",
        "while i<=10:\n",
        "      print(n,\" * \",i,\" = \",n*i)\n",
        "      i=i+1\n",
        "      "
      ],
      "execution_count": 55,
      "outputs": [
        {
          "output_type": "stream",
          "text": [
            "4  *  1  =  4\n",
            "4  *  2  =  8\n",
            "4  *  3  =  12\n",
            "4  *  4  =  16\n",
            "4  *  5  =  20\n",
            "4  *  6  =  24\n",
            "4  *  7  =  28\n",
            "4  *  8  =  32\n",
            "4  *  9  =  36\n",
            "4  *  10  =  40\n"
          ],
          "name": "stdout"
        }
      ]
    },
    {
      "cell_type": "code",
      "metadata": {
        "id": "bPojJ5nXnKjz",
        "colab": {
          "base_uri": "https://localhost:8080/"
        },
        "outputId": "50ffcb02-a62d-4215-995a-06ab2b598bc3"
      },
      "source": [
        "# application in list\n",
        "l1=[1,2,3,4,5]\n",
        "i=0\n",
        "while i<len(l1):\n",
        "       l1[i]=l1[i]+100\n",
        "       i=i+1\n",
        "l1       "
      ],
      "execution_count": 56,
      "outputs": [
        {
          "output_type": "execute_result",
          "data": {
            "text/plain": [
              "[101, 102, 103, 104, 105]"
            ]
          },
          "metadata": {
            "tags": []
          },
          "execution_count": 56
        }
      ]
    },
    {
      "cell_type": "code",
      "metadata": {
        "id": "ocUoRTgYo1KZ",
        "colab": {
          "base_uri": "https://localhost:8080/"
        },
        "outputId": "e9506372-679b-447e-888e-a41dd57fffbe"
      },
      "source": [
        "# For loop\n",
        "l1=['Apple','Banana','Watermelon','Grapes']\n",
        "for i in l1:\n",
        "       print(i)\n"
      ],
      "execution_count": 57,
      "outputs": [
        {
          "output_type": "stream",
          "text": [
            "Apple\n",
            "Banana\n",
            "Watermelon\n",
            "Grapes\n"
          ],
          "name": "stdout"
        }
      ]
    },
    {
      "cell_type": "code",
      "metadata": {
        "id": "GTzzHsHnpVxi",
        "colab": {
          "base_uri": "https://localhost:8080/"
        },
        "outputId": "a30b05fa-1ddd-4093-f1a5-46cf63c66cbb"
      },
      "source": [
        "l2=[\"Black\",'White','Brown']\n",
        "l3=['chair','table','mobile']\n",
        "for i in l2:\n",
        "      for j in l3:\n",
        "           print(i,j)\n",
        "           "
      ],
      "execution_count": 58,
      "outputs": [
        {
          "output_type": "stream",
          "text": [
            "Black chair\n",
            "Black table\n",
            "Black mobile\n",
            "White chair\n",
            "White table\n",
            "White mobile\n",
            "Brown chair\n",
            "Brown table\n",
            "Brown mobile\n"
          ],
          "name": "stdout"
        }
      ]
    },
    {
      "cell_type": "markdown",
      "metadata": {
        "id": "uAP3snLE4q7m"
      },
      "source": [
        "#**How to take input from user?**"
      ]
    },
    {
      "cell_type": "code",
      "metadata": {
        "id": "_tVkdUu842XE",
        "colab": {
          "base_uri": "https://localhost:8080/"
        },
        "outputId": "5fa2cfec-0bd2-48e9-80cf-d4c8186b1694"
      },
      "source": [
        "# string input from user\n",
        "s=input(\" Enter a text:\")\n"
      ],
      "execution_count": 59,
      "outputs": [
        {
          "output_type": "stream",
          "text": [
            " Enter a text:apple\n"
          ],
          "name": "stdout"
        }
      ]
    },
    {
      "cell_type": "code",
      "metadata": {
        "id": "YdmZYbvgMQcK",
        "colab": {
          "base_uri": "https://localhost:8080/",
          "height": 35
        },
        "outputId": "7342d960-6d2a-48b8-a169-3965bf2a4743"
      },
      "source": [
        "s"
      ],
      "execution_count": 60,
      "outputs": [
        {
          "output_type": "execute_result",
          "data": {
            "application/vnd.google.colaboratory.intrinsic+json": {
              "type": "string"
            },
            "text/plain": [
              "'apple'"
            ]
          },
          "metadata": {
            "tags": []
          },
          "execution_count": 60
        }
      ]
    },
    {
      "cell_type": "code",
      "metadata": {
        "id": "Gs-dyBSN7ePu",
        "colab": {
          "base_uri": "https://localhost:8080/"
        },
        "outputId": "edef1400-073d-4d61-8d16-2d256fedf211"
      },
      "source": [
        "#integer input from user\n",
        "x=int(input(\"Enter an integer:\"))\n"
      ],
      "execution_count": 61,
      "outputs": [
        {
          "output_type": "stream",
          "text": [
            "Enter an integer:45\n"
          ],
          "name": "stdout"
        }
      ]
    },
    {
      "cell_type": "code",
      "metadata": {
        "id": "LVBWFM9N6noU",
        "colab": {
          "base_uri": "https://localhost:8080/"
        },
        "outputId": "493f0793-f6aa-4c5b-c67d-ce3b079a3419"
      },
      "source": [
        "# List input(integers) from user\n",
        "l1=[]\n",
        "l1=[int(i) for i in input(\"Enter list items(integers) separated by a space: \").split()]\n",
        "l1"
      ],
      "execution_count": 64,
      "outputs": [
        {
          "output_type": "stream",
          "text": [
            "Enter list items(integers) separated by a space: 45 56 87\n"
          ],
          "name": "stdout"
        },
        {
          "output_type": "execute_result",
          "data": {
            "text/plain": [
              "[45, 56, 87]"
            ]
          },
          "metadata": {
            "tags": []
          },
          "execution_count": 64
        }
      ]
    },
    {
      "cell_type": "code",
      "metadata": {
        "id": "27tUOE6M7Msv",
        "colab": {
          "base_uri": "https://localhost:8080/"
        },
        "outputId": "13a869fd-05ef-4ecd-e7ad-b0380dd92a9c"
      },
      "source": [
        "# List input(strings) from user\n",
        "l2=[]\n",
        "l2=[i for i in input(\"Enter list items(strings) separated by a space: \").split()]\n",
        "l2"
      ],
      "execution_count": 65,
      "outputs": [
        {
          "output_type": "stream",
          "text": [
            "Enter list items(strings) separated by a space: apple orange grapes\n"
          ],
          "name": "stdout"
        },
        {
          "output_type": "execute_result",
          "data": {
            "text/plain": [
              "['apple', 'orange', 'grapes']"
            ]
          },
          "metadata": {
            "tags": []
          },
          "execution_count": 65
        }
      ]
    },
    {
      "cell_type": "markdown",
      "metadata": {
        "id": "A0elE_sHH9KB"
      },
      "source": [
        "#**ClassWork-1**"
      ]
    },
    {
      "cell_type": "markdown",
      "metadata": {
        "id": "91YZ_tM8IIKY"
      },
      "source": [
        "Prob1. **Given a list, write a Python program to swap first and last element of the list.**\n",
        "\n",
        "Example:\n",
        "Input : [12, 35, 9, 56, 24]\n",
        "Output : [24, 35, 9, 56, 12]"
      ]
    },
    {
      "cell_type": "code",
      "metadata": {
        "id": "vZAuIze-ISYT",
        "colab": {
          "base_uri": "https://localhost:8080/"
        },
        "outputId": "dae227a5-e728-4137-dcfa-a8087396dca9"
      },
      "source": [
        "newList = [12, 35, 9, 56, 24]\n",
        "size = len(newList)\n",
        "      \n",
        "    # Swapping \n",
        "temp=newList[0]\n",
        "newList[0] = newList[size - 1]\n",
        "newList[size - 1] = temp\n",
        "newList"
      ],
      "execution_count": 66,
      "outputs": [
        {
          "output_type": "execute_result",
          "data": {
            "text/plain": [
              "[24, 35, 9, 56, 12]"
            ]
          },
          "metadata": {
            "tags": []
          },
          "execution_count": 66
        }
      ]
    },
    {
      "cell_type": "markdown",
      "metadata": {
        "id": "uMKA-zjOuz_2"
      },
      "source": [
        "Prob2. **Write a Python program to find those numbers which are divisible by 7 and multiple of 5, between 1500 and 2700 (both included).**\n",
        "\n",
        "Sample Output : 1505,1540,1575,1610,1645,1680,1715,1750,1785,1820,1855,1890,1925,1960,1995,2030,2065,2100,2135,2170,2205,2240,\n",
        "2275,2310,2345,2380,2415,2450,2485,2520,2555,2590,2625,2660,2695 "
      ]
    },
    {
      "cell_type": "code",
      "metadata": {
        "id": "BZii5uLTIDa5",
        "colab": {
          "base_uri": "https://localhost:8080/"
        },
        "outputId": "89e8651c-a86b-41b5-cd4b-afb0f6668e02"
      },
      "source": [
        "nl=[]\n",
        "for x in range(1000, 5000):\n",
        "    if (x%5==0) & (x%23==0):\n",
        "        nl.append(x)\n",
        "print(nl,\",\")"
      ],
      "execution_count": 67,
      "outputs": [
        {
          "output_type": "stream",
          "text": [
            "[1035, 1150, 1265, 1380, 1495, 1610, 1725, 1840, 1955, 2070, 2185, 2300, 2415, 2530, 2645, 2760, 2875, 2990, 3105, 3220, 3335, 3450, 3565, 3680, 3795, 3910, 4025, 4140, 4255, 4370, 4485, 4600, 4715, 4830, 4945] ,\n"
          ],
          "name": "stdout"
        }
      ]
    },
    {
      "cell_type": "markdown",
      "metadata": {
        "id": "q7YBYOznXtji"
      },
      "source": [
        "# **Class Test-1**"
      ]
    },
    {
      "cell_type": "markdown",
      "metadata": {
        "id": "V02Qj6_8X10R"
      },
      "source": [
        "##Write a python code for the following:\n",
        "❏ Take the temperature (of a device) input from the user (without any\n",
        "unit only a number)\n",
        "❏ Take the unit of that reading from user (C(centigrade) or\n",
        "F(Fahrenheit))\n",
        "❏ If the reading of the device is more than 70 degree F display “\n",
        "Danger”\n",
        "❏ If the reading of the device is not more than 70 degree F but more\n",
        "than 30 degree F display “ Working Fine”\n",
        "❏ If the reading of the device is less or equal to 30 degree F display “\n",
        "Danger”"
      ]
    },
    {
      "cell_type": "code",
      "metadata": {
        "id": "ZrAJTIYFYDO3",
        "colab": {
          "base_uri": "https://localhost:8080/"
        },
        "outputId": "bbdfb769-be48-420f-e656-d3a9ca2aa93b"
      },
      "source": [
        "t=float(input(\"Temperature of the device(without any unit only a number)\"))\n",
        "unit=input(\"If the unit is degree Centigrade write C if unit is degree Ferenheit write F\")\n",
        "if unit.upper()==\"C\":\n",
        "   t=(9/5)*t+32\n",
        "if t>70 or t<=30:\n",
        "   print(\"Danger!\")\n",
        "else:\n",
        "   print(\"Working Fine\")   \n",
        "\n",
        "   "
      ],
      "execution_count": 68,
      "outputs": [
        {
          "output_type": "stream",
          "text": [
            "Temperature of the device(without any unit only a number)38\n",
            "If the unit is degree Centigrade write C if unit is degree Ferenheit write Fc\n",
            "Danger!\n"
          ],
          "name": "stdout"
        }
      ]
    },
    {
      "cell_type": "markdown",
      "metadata": {
        "id": "KZtvzCpmq3bo"
      },
      "source": [
        "#**Functions**"
      ]
    },
    {
      "cell_type": "code",
      "metadata": {
        "id": "I8vLPw62q8JF"
      },
      "source": [
        "def hello():\n",
        "    print(\"Hello World\")\n"
      ],
      "execution_count": 88,
      "outputs": []
    },
    {
      "cell_type": "code",
      "metadata": {
        "id": "bsrY5ZnxrJzC",
        "colab": {
          "base_uri": "https://localhost:8080/"
        },
        "outputId": "29c23ebc-fa17-4740-9542-ccdfd2610663"
      },
      "source": [
        "hello()"
      ],
      "execution_count": 89,
      "outputs": [
        {
          "output_type": "stream",
          "text": [
            "Hello World\n"
          ],
          "name": "stdout"
        }
      ]
    },
    {
      "cell_type": "code",
      "metadata": {
        "id": "ETcMHYzbrfrS"
      },
      "source": [
        "def fact(n):\n",
        "    i=n\n",
        "    f=1\n",
        "    if n<0:\n",
        "         f='Not a finite value' \n",
        "    elif n==0:\n",
        "         f=1\n",
        "         \n",
        "    else:\n",
        "         while i>0:\n",
        "               f=f*i\n",
        "               i=i-1\n",
        "    return f          \n",
        "              "
      ],
      "execution_count": 90,
      "outputs": []
    },
    {
      "cell_type": "code",
      "metadata": {
        "id": "be2BJB5luukK",
        "colab": {
          "base_uri": "https://localhost:8080/"
        },
        "outputId": "aa8d578b-aaf5-45fb-957f-6e862ae71ab9"
      },
      "source": [
        "fact(5)"
      ],
      "execution_count": 91,
      "outputs": [
        {
          "output_type": "execute_result",
          "data": {
            "text/plain": [
              "120"
            ]
          },
          "metadata": {
            "tags": []
          },
          "execution_count": 91
        }
      ]
    },
    {
      "cell_type": "markdown",
      "metadata": {
        "id": "fz_6iayzwl7l"
      },
      "source": [
        "###**Lamda Function**"
      ]
    },
    {
      "cell_type": "code",
      "metadata": {
        "id": "XeHcuBAqwlEE",
        "colab": {
          "base_uri": "https://localhost:8080/"
        },
        "outputId": "7d862620-c815-4840-b26a-17d81de61542"
      },
      "source": [
        "g=lambda y:y*y+2*y+1\n",
        "g(3)"
      ],
      "execution_count": 92,
      "outputs": [
        {
          "output_type": "execute_result",
          "data": {
            "text/plain": [
              "16"
            ]
          },
          "metadata": {
            "tags": []
          },
          "execution_count": 92
        }
      ]
    },
    {
      "cell_type": "markdown",
      "metadata": {
        "id": "SzOrDn83x0ry"
      },
      "source": [
        "Lambda with filter"
      ]
    },
    {
      "cell_type": "code",
      "metadata": {
        "id": "eCTPFwUXx45u",
        "colab": {
          "base_uri": "https://localhost:8080/"
        },
        "outputId": "f8f47b43-2fb1-4a9a-f8de-93f95acabd2e"
      },
      "source": [
        "l1=[45,76,2,34,98,23,6,18,22,79]\n",
        "filtered_l1=list(filter(lambda x: (x%2==0),l1))\n",
        "filtered_l1"
      ],
      "execution_count": 93,
      "outputs": [
        {
          "output_type": "execute_result",
          "data": {
            "text/plain": [
              "[76, 2, 34, 98, 6, 18, 22]"
            ]
          },
          "metadata": {
            "tags": []
          },
          "execution_count": 93
        }
      ]
    },
    {
      "cell_type": "markdown",
      "metadata": {
        "id": "utMaamgv0grP"
      },
      "source": [
        "Lambda with map"
      ]
    },
    {
      "cell_type": "code",
      "metadata": {
        "id": "tMb5AlAJ0nBT",
        "colab": {
          "base_uri": "https://localhost:8080/"
        },
        "outputId": "6b97371c-645d-4715-ca40-e70129402184"
      },
      "source": [
        "l1=[3,6,9,12,15,18,21]\n",
        "map_l1=list(map(lambda x: x/3,l1))\n",
        "map_l1"
      ],
      "execution_count": 94,
      "outputs": [
        {
          "output_type": "execute_result",
          "data": {
            "text/plain": [
              "[1.0, 2.0, 3.0, 4.0, 5.0, 6.0, 7.0]"
            ]
          },
          "metadata": {
            "tags": []
          },
          "execution_count": 94
        }
      ]
    },
    {
      "cell_type": "markdown",
      "metadata": {
        "id": "hP7lGSpz94sL"
      },
      "source": [
        "# **Object Oriented Programming in Python**"
      ]
    },
    {
      "cell_type": "code",
      "metadata": {
        "id": "nKc6p7Z0-K9P"
      },
      "source": [
        "#Define a class\n",
        "class Phone:\n",
        "    def make_call(self):   # Defining methods inside the class\n",
        "       print(\"I am calling\")\n",
        "    def play_game(self):   # Defining methods inside the class\n",
        "       print(\"I am playing a game\")\n"
      ],
      "execution_count": 95,
      "outputs": []
    },
    {
      "cell_type": "code",
      "metadata": {
        "id": "RylE4rwp-4sY",
        "colab": {
          "base_uri": "https://localhost:8080/"
        },
        "outputId": "eafb1793-9148-4582-934a-1ebdb156208d"
      },
      "source": [
        "#Instantiating an object\n",
        "p1=Phone()\n",
        "# object calling a method\n",
        "p1.make_call() "
      ],
      "execution_count": 96,
      "outputs": [
        {
          "output_type": "stream",
          "text": [
            "I am calling\n"
          ],
          "name": "stdout"
        }
      ]
    },
    {
      "cell_type": "code",
      "metadata": {
        "id": "EOqcAijD_otW",
        "colab": {
          "base_uri": "https://localhost:8080/"
        },
        "outputId": "b682f9fa-5e64-4600-9912-2cdbe2075b66"
      },
      "source": [
        "p1.play_game()"
      ],
      "execution_count": 97,
      "outputs": [
        {
          "output_type": "stream",
          "text": [
            "I am playing a game\n"
          ],
          "name": "stdout"
        }
      ]
    },
    {
      "cell_type": "code",
      "metadata": {
        "id": "VpVSlo5VASyX"
      },
      "source": [
        "#How to add more attributes in the class\n",
        "class Phone:\n",
        "\n",
        "    def set_color(self,color):\n",
        "        self.color=color\n",
        "    def set_cost(self,cost):\n",
        "        self.cost=cost\n",
        "    def show_color(self):\n",
        "        return self.color\n",
        "    def show_cost(self):\n",
        "        return self.cost  \n",
        "    def make_call(self):   # Defining methods inside the class\n",
        "       print(\"I am calling\")\n",
        "    def play_game(self):   # Defining methods inside the class\n",
        "       print(\"I am playing a game\")"
      ],
      "execution_count": 98,
      "outputs": []
    },
    {
      "cell_type": "code",
      "metadata": {
        "id": "Ny3iG6_XBWJU",
        "colab": {
          "base_uri": "https://localhost:8080/"
        },
        "outputId": "e78563db-5b14-4ce3-851e-3ea9878f80b1"
      },
      "source": [
        "p2=Phone()\n",
        "p2.set_color('RED')\n",
        "p2.set_cost(5000)\n",
        "p2.show_color(),p2.show_cost()\n"
      ],
      "execution_count": 99,
      "outputs": [
        {
          "output_type": "execute_result",
          "data": {
            "text/plain": [
              "('RED', 5000)"
            ]
          },
          "metadata": {
            "tags": []
          },
          "execution_count": 99
        }
      ]
    },
    {
      "cell_type": "code",
      "metadata": {
        "id": "2ZnVYyqKCu8I"
      },
      "source": [
        "# Creating Constructor\n",
        "class Employee:\n",
        "    def __init__(self,name,age,gender,salary):\n",
        "          self.name=name\n",
        "          self.age=age\n",
        "          self.gender=gender\n",
        "          self.salary=salary\n",
        "    def employee_details(self):\n",
        "          print(\"Name of the employee: \",self.name)\n",
        "          print(\"Age of the employee: \",self.age)\n",
        "          print(\"Gender of the employee: \",self.gender)\n",
        "          print(\"Salary of the employee: \",self.salary)\n",
        "          \n",
        "               "
      ],
      "execution_count": 100,
      "outputs": []
    },
    {
      "cell_type": "code",
      "metadata": {
        "id": "bD3EnxhqDypQ",
        "colab": {
          "base_uri": "https://localhost:8080/"
        },
        "outputId": "b7694949-08f5-41cf-de27-8e45743d7254"
      },
      "source": [
        "#instantiating object\n",
        "e1=Employee('Rajendra Guha',45,'Female',\"Rs 85000 p.m.\")\n",
        "#Invoking method\n",
        "e1.employee_details()"
      ],
      "execution_count": 101,
      "outputs": [
        {
          "output_type": "stream",
          "text": [
            "Name of the employee:  Rajendra Guha\n",
            "Age of the employee:  45\n",
            "Gender of the employee:  Female\n",
            "Salary of the employee:  Rs 85000 p.m.\n"
          ],
          "name": "stdout"
        }
      ]
    },
    {
      "cell_type": "code",
      "metadata": {
        "id": "ha3PR4TXFyaG"
      },
      "source": [
        "# Inheritance\n",
        "#Define parent class first\n",
        "class Vehicle:\n",
        "      def __init__(self,milage,cost):\n",
        "             self.milage=milage\n",
        "             self.cost=cost\n",
        "      def show_details(self):\n",
        "           print(\"Milage of the vehicle is \",self.milage)\n",
        "           print(\"Cost of the vehicle is \",self.cost)\n",
        "            "
      ],
      "execution_count": 102,
      "outputs": []
    },
    {
      "cell_type": "code",
      "metadata": {
        "id": "vhC7fgg2HBBO"
      },
      "source": [
        "# Define child class\n",
        "class Car(Vehicle):\n",
        "     def car_show(self):\n",
        "           print(\"This is my car.\")\n",
        "           \n"
      ],
      "execution_count": 103,
      "outputs": []
    },
    {
      "cell_type": "code",
      "metadata": {
        "id": "ihdJeadnHn5a",
        "colab": {
          "base_uri": "https://localhost:8080/"
        },
        "outputId": "27b989db-2917-4c10-aeab-3fa6d4f8025f"
      },
      "source": [
        "#Instantiating object\n",
        "c1=Car(20,700000)\n",
        "c1.show_details()"
      ],
      "execution_count": 104,
      "outputs": [
        {
          "output_type": "stream",
          "text": [
            "Milage of the vehicle is  20\n",
            "Cost of the vehicle is  700000\n"
          ],
          "name": "stdout"
        }
      ]
    },
    {
      "cell_type": "code",
      "metadata": {
        "id": "3TX-akLiIGMP",
        "colab": {
          "base_uri": "https://localhost:8080/"
        },
        "outputId": "d45bfb1c-941b-4857-bc87-4390e6e1aa27"
      },
      "source": [
        "c1.car_show()"
      ],
      "execution_count": 105,
      "outputs": [
        {
          "output_type": "stream",
          "text": [
            "This is my car.\n"
          ],
          "name": "stdout"
        }
      ]
    },
    {
      "cell_type": "code",
      "metadata": {
        "id": "e61E2e2MCSJG",
        "colab": {
          "base_uri": "https://localhost:8080/"
        },
        "outputId": "c93574eb-2f5c-4ac1-8312-47259092edb4"
      },
      "source": [
        "x='run'\n",
        "x2=5.6\n",
        "type(x),type(x2)"
      ],
      "execution_count": 106,
      "outputs": [
        {
          "output_type": "execute_result",
          "data": {
            "text/plain": [
              "(str, float)"
            ]
          },
          "metadata": {
            "tags": []
          },
          "execution_count": 106
        }
      ]
    }
  ]
}